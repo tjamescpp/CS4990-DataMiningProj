{
 "cells": [
  {
   "cell_type": "code",
   "execution_count": null,
   "metadata": {},
   "outputs": [
    {
     "name": "stdout",
     "output_type": "stream",
     "text": [
      "<class 'pandas.core.frame.DataFrame'>\n",
      "RangeIndex: 14552 entries, 0 to 14551\n",
      "Data columns (total 10 columns):\n",
      " #   Column                       Non-Null Count  Dtype \n",
      "---  ------                       --------------  ----- \n",
      " 0   subject_id                   14552 non-null  object\n",
      " 1   race                         14552 non-null  object\n",
      " 2   sex                          14552 non-null  object\n",
      " 3   age_at_diagnosis             14552 non-null  int64 \n",
      " 4   morphology                   14552 non-null  object\n",
      " 5   primary_diagnosis            14552 non-null  object\n",
      " 6   primary_diagnosis_condition  14552 non-null  object\n",
      " 7   primary_diagnosis_site       14552 non-null  object\n",
      " 8   vital_status                 14552 non-null  object\n",
      " 9   treatment_type               14552 non-null  object\n",
      "dtypes: int64(1), object(9)\n",
      "memory usage: 1.1+ MB\n"
     ]
    }
   ],
   "source": [
    "from classification import DecisionTree\n",
    "import pandas as pd\n",
    "from sklearn.model_selection import train_test_split\n",
    "import numpy as np\n",
    "import seaborn as sns\n",
    "from sklearn.metrics import classification_report, confusion_matrix, ConfusionMatrixDisplay\n",
    "\n",
    "df = pd.read_csv('../cancer_data.csv')\n",
    "df.columns\n",
    "\n",
    "df.info()"
   ]
  },
  {
   "cell_type": "code",
   "execution_count": 34,
   "metadata": {},
   "outputs": [
    {
     "data": {
      "text/plain": [
       "<Axes: xlabel='vital_status', ylabel='Count'>"
      ]
     },
     "execution_count": 34,
     "metadata": {},
     "output_type": "execute_result"
    },
    {
     "data": {
      "image/png": "[encoded data removed]",
      "text/plain": [
       "<Figure size 640x480 with 1 Axes>"
      ]
     },
     "metadata": {},
     "output_type": "display_data"
    }
   ],
   "source": [
    "sns.histplot(df, x='vital_status')"
   ]
  },
  {
   "cell_type": "code",
   "execution_count": 35,
   "metadata": {},
   "outputs": [
    {
     "data": {
      "text/plain": [
       "vital_status\n",
       "Alive    9081\n",
       "Dead     5471\n",
       "Name: count, dtype: int64"
      ]
     },
     "execution_count": 35,
     "metadata": {},
     "output_type": "execute_result"
    }
   ],
   "source": [
    "df['vital_status'].value_counts()"
   ]
  },
  {
   "cell_type": "code",
   "execution_count": 36,
   "metadata": {},
   "outputs": [
    {
     "name": "stdout",
     "output_type": "stream",
     "text": [
      "mapped_labels\n",
      "1    9081\n",
      "0    5471\n",
      "Name: count, dtype: int64\n",
      "<class 'pandas.core.frame.DataFrame'>\n",
      "RangeIndex: 14552 entries, 0 to 14551\n",
      "Data columns (total 9 columns):\n",
      " #   Column                       Non-Null Count  Dtype \n",
      "---  ------                       --------------  ----- \n",
      " 0   subject_id                   14552 non-null  object\n",
      " 1   race                         14552 non-null  object\n",
      " 2   sex                          14552 non-null  object\n",
      " 3   age_at_diagnosis             14552 non-null  int64 \n",
      " 4   morphology                   14552 non-null  object\n",
      " 5   primary_diagnosis            14552 non-null  object\n",
      " 6   primary_diagnosis_condition  14552 non-null  object\n",
      " 7   primary_diagnosis_site       14552 non-null  object\n",
      " 8   treatment_type               14552 non-null  object\n",
      "dtypes: int64(1), object(8)\n",
      "memory usage: 1023.3+ KB\n",
      "None\n",
      "Labels: [0, 1]\n",
      "Training set size: 10186\n",
      "Validation set size: 2183\n",
      "Test set size: 2183\n",
      "\n",
      "Classification Report (Train):\n",
      "Accuracy: 1.00\n",
      "Precision: 1.00\n",
      "Recall: 1.00\n",
      "\n",
      "Classification Report (Validation):\n",
      "Accuracy: 0.99\n",
      "Precision: 0.98\n",
      "Recall: 1.00\n",
      "\n",
      "Classification Report (Test):\n",
      "Accuracy: 0.99\n",
      "Precision: 0.98\n",
      "Recall: 1.00\n",
      "              precision    recall  f1-score   support\n",
      "\n",
      "           0       1.00      0.97      0.98       860\n",
      "           1       0.98      1.00      0.99      1323\n",
      "\n",
      "    accuracy                           0.99      2183\n",
      "   macro avg       0.99      0.98      0.99      2183\n",
      "weighted avg       0.99      0.99      0.99      2183\n",
      "\n"
     ]
    }
   ],
   "source": [
    "# Define a function to map values\n",
    "def map_values(value):\n",
    "    if value == 'Alive':\n",
    "        return 1\n",
    "    elif value == 'Dead':\n",
    "        return 0\n",
    "    else:\n",
    "        return -1\n",
    "\n",
    "# Apply the function to the column\n",
    "df['mapped_labels'] = df['vital_status'].apply(map_values)\n",
    "print(df['mapped_labels'].value_counts())\n",
    "\n",
    "# Specify the column name for the labels\n",
    "label_column = 'mapped_labels'\n",
    "\n",
    "# Split the DataFrame into features (X) and labels (y)\n",
    "X = df.drop(columns=['vital_status', 'mapped_labels'])  # All columns except the label column\n",
    "y = list(df[label_column]) # Only the label column\n",
    "print(X.info())\n",
    "unique_values = list(set(y))\n",
    "print(\"Labels:\", unique_values)\n",
    "\n",
    "# Split data into train (70%) and temporary test (30%) sets\n",
    "X_train, X_temp, y_train, y_temp = train_test_split(X, y, test_size=0.3, random_state=42)\n",
    "\n",
    "# Split the temporary set into validation (50% of temporary) and test (50% of temporary)\n",
    "# Equivalent to 15% test and %15 validation from the original split\n",
    "X_val, X_test, y_val, y_test = train_test_split(X_temp, y_temp, test_size=0.5, random_state=42)\n",
    "\n",
    "# Check the sizes of the splits\n",
    "print(f\"Training set size: {X_train.shape[0]}\")\n",
    "print(f\"Validation set size: {X_val.shape[0]}\")\n",
    "print(f\"Test set size: {X_test.shape[0]}\")\n",
    "\n",
    "# Convert X splits into lists\n",
    "X_train = X_train.values.tolist()  # Features for training set as a list of lists\n",
    "X_val = X_val.values.tolist()      # Features for validation set as a list of lists\n",
    "X_test = X_test.values.tolist()    # Features for test set as a list of lists\n",
    "\n",
    "classifier = DecisionTree()\n",
    "classifier.fit(X_train, y_train)\n",
    "\n",
    "train_y_hat = classifier.predict(X_train)\n",
    "validation_y_hat = classifier.predict(X_val)\n",
    "test_y_hat = classifier.predict(X_test)\n",
    "\n",
    "# Function to calculate performance metrics\n",
    "def calculate_performance(validation_y, validation_y_hat):\n",
    "    # Ensure inputs are lists\n",
    "    validation_y = list(validation_y)\n",
    "    validation_y_hat = list(validation_y_hat)\n",
    "    \n",
    "    # Initialize counters\n",
    "    true_positive = 0\n",
    "    false_positive = 0\n",
    "    false_negative = 0\n",
    "    true_negative = 0\n",
    "\n",
    "    # Count TP, FP, TN, FN including -1 cases (for multiclass classification)\n",
    "    for actual, predicted in zip(validation_y, validation_y_hat):\n",
    "        if actual == 1 and predicted == 1:\n",
    "            true_positive += 1\n",
    "        elif actual == 0 and predicted == 1:\n",
    "            false_positive += 1\n",
    "        elif actual == 1 and predicted == 0:\n",
    "            false_negative += 1\n",
    "        elif actual == 0 and predicted == 0:\n",
    "            true_negative += 1\n",
    "        elif actual == -1:\n",
    "            if predicted == -1:\n",
    "                true_negative += 1\n",
    "            else:\n",
    "                false_positive += 1\n",
    "        elif predicted == -1:\n",
    "            false_negative += 1\n",
    "\n",
    "    # Calculate metrics\n",
    "    accuracy = (true_positive + true_negative) / len(validation_y)\n",
    "    precision = true_positive / (true_positive + false_positive) if (true_positive + false_positive) > 0 else 0\n",
    "    recall = true_positive / (true_positive + false_negative) if (true_positive + false_negative) > 0 else 0\n",
    "\n",
    "    # Print metrics\n",
    "    print(f\"Accuracy: {accuracy:.2f}\")\n",
    "    print(f\"Precision: {precision:.2f}\")\n",
    "    print(f\"Recall: {recall:.2f}\")\n",
    "\n",
    "print(\"\\nClassification Report (Train):\")\n",
    "calculate_performance(y_train, train_y_hat)\n",
    "\n",
    "print(\"\\nClassification Report (Validation):\")\n",
    "calculate_performance(y_val, validation_y_hat)\n",
    "\n",
    "print(\"\\nClassification Report (Test):\")\n",
    "calculate_performance(y_test, test_y_hat)\n",
    "\n",
    "# Generate classification report\n",
    "report = classification_report(y_val, validation_y_hat)\n",
    "print(report)\n"
   ]
  },
  {
   "cell_type": "code",
   "execution_count": 37,
   "metadata": {},
   "outputs": [
    {
     "data": {
      "text/plain": [
       "<sklearn.metrics._plot.confusion_matrix.ConfusionMatrixDisplay at 0x10eef7bf0>"
      ]
     },
     "execution_count": 37,
     "metadata": {},
     "output_type": "execute_result"
    },
    {
     "data": {
      "image/png": "[encoded data removed]",
      "text/plain": [
       "<Figure size 640x480 with 2 Axes>"
      ]
     },
     "metadata": {},
     "output_type": "display_data"
    }
   ],
   "source": [
    "# Generate and display confusion matrix\n",
    "cm = confusion_matrix(y_val, validation_y_hat)\n",
    "disp = ConfusionMatrixDisplay(confusion_matrix=cm, display_labels=[0, 1])\n",
    "disp.plot()"
   ]
  },
  {
   "cell_type": "code",
   "execution_count": 38,
   "metadata": {},
   "outputs": [
    {
     "data": {
      "text/plain": [
       "<sklearn.metrics._plot.confusion_matrix.ConfusionMatrixDisplay at 0x11008caf0>"
      ]
     },
     "execution_count": 38,
     "metadata": {},
     "output_type": "execute_result"
    },
    {
     "data": {
      "image/png": "[encoded data removed]",
      "text/plain": [
       "<Figure size 640x480 with 2 Axes>"
      ]
     },
     "metadata": {},
     "output_type": "display_data"
    }
   ],
   "source": [
    "# Generate and display confusion matrix\n",
    "cm = confusion_matrix(y_test, test_y_hat)\n",
    "disp = ConfusionMatrixDisplay(confusion_matrix=cm, display_labels=[0, 1])\n",
    "disp.plot()"
   ]
  },
  {
   "cell_type": "code",
   "execution_count": null,
   "metadata": {},
   "outputs": [],
   "source": []
  }
 ],
 "metadata": {
  "kernelspec": {
   "display_name": "env",
   "language": "python",
   "name": "python3"
  },
  "language_info": {
   "codemirror_mode": {
    "name": "ipython",
    "version": 3
   },
   "file_extension": ".py",
   "mimetype": "text/x-python",
   "name": "python",
   "nbconvert_exporter": "python",
   "pygments_lexer": "ipython3",
   "version": "3.13.0"
  }
 },
 "nbformat": 4,
 "nbformat_minor": 2
}
