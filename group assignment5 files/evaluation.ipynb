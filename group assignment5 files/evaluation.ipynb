{
 "cells": [
  {
   "cell_type": "code",
   "execution_count": 40,
   "metadata": {},
   "outputs": [
    {
     "name": "stdout",
     "output_type": "stream",
     "text": [
      "<class 'pandas.core.frame.DataFrame'>\n",
      "RangeIndex: 14552 entries, 0 to 14551\n",
      "Data columns (total 10 columns):\n",
      " #   Column                       Non-Null Count  Dtype \n",
      "---  ------                       --------------  ----- \n",
      " 0   subject_id                   14552 non-null  object\n",
      " 1   race                         14552 non-null  object\n",
      " 2   sex                          14552 non-null  object\n",
      " 3   age_at_diagnosis             14552 non-null  int64 \n",
      " 4   morphology                   14552 non-null  object\n",
      " 5   primary_diagnosis            14552 non-null  object\n",
      " 6   primary_diagnosis_condition  14552 non-null  object\n",
      " 7   primary_diagnosis_site       14552 non-null  object\n",
      " 8   vital_status                 14552 non-null  object\n",
      " 9   treatment_type               14552 non-null  object\n",
      "dtypes: int64(1), object(9)\n",
      "memory usage: 1.1+ MB\n"
     ]
    }
   ],
   "source": [
    "from classification import DecisionTree\n",
    "import pandas as pd\n",
    "from sklearn.model_selection import train_test_split\n",
    "from sklearn.tree import DecisionTreeClassifier\n",
    "from sklearn.preprocessing import LabelEncoder\n",
    "import numpy as np\n",
    "import seaborn as sns\n",
    "from sklearn.metrics import classification_report, confusion_matrix, ConfusionMatrixDisplay\n",
    "\n",
    "df = pd.read_csv('../cancer_data.csv')\n",
    "df.columns\n",
    "\n",
    "df.info()"
   ]
  },
  {
   "cell_type": "code",
   "execution_count": 41,
   "metadata": {},
   "outputs": [
    {
     "data": {
      "text/plain": [
       "treatment_type\n",
       "Radiation Therapy, NOS                         7180\n",
       "Pharmaceutical Therapy, NOS                    7147\n",
       "Surgery, NOS                                     55\n",
       "Chemotherapy                                     51\n",
       "Targeted Molecular Therapy                       50\n",
       "Immunotherapy (Including Vaccines)               48\n",
       "Radiation, 3D Conformal                           8\n",
       "Radiation, 2D Conventional                        5\n",
       "Hormone Therapy                                   4\n",
       "Radiation, Intensity-Modulated Radiotherapy       3\n",
       "Radiation, Proton Beam                            1\n",
       "Name: count, dtype: int64"
      ]
     },
     "execution_count": 41,
     "metadata": {},
     "output_type": "execute_result"
    }
   ],
   "source": [
    "df['treatment_type'].value_counts()"
   ]
  },
  {
   "cell_type": "code",
   "execution_count": 49,
   "metadata": {},
   "outputs": [
    {
     "name": "stdout",
     "output_type": "stream",
     "text": [
      "treatment_type\n",
      "Radiation Therapy, NOS         7180\n",
      "Pharmaceutical Therapy, NOS    7147\n",
      "Name: count, dtype: int64\n",
      "<class 'pandas.core.frame.DataFrame'>\n",
      "Index: 14327 entries, 4 to 14551\n",
      "Data columns (total 10 columns):\n",
      " #   Column                       Non-Null Count  Dtype \n",
      "---  ------                       --------------  ----- \n",
      " 0   subject_id                   14327 non-null  object\n",
      " 1   race                         14327 non-null  object\n",
      " 2   sex                          14327 non-null  object\n",
      " 3   age_at_diagnosis             14327 non-null  int64 \n",
      " 4   morphology                   14327 non-null  object\n",
      " 5   primary_diagnosis            14327 non-null  object\n",
      " 6   primary_diagnosis_condition  14327 non-null  object\n",
      " 7   primary_diagnosis_site       14327 non-null  object\n",
      " 8   vital_status                 14327 non-null  object\n",
      " 9   treatment_type               14327 non-null  object\n",
      "dtypes: int64(1), object(9)\n",
      "memory usage: 1.2+ MB\n"
     ]
    }
   ],
   "source": [
    "# Keep rows where 'treatment_type' is 'A' or 'B'\n",
    "values_to_keep = ['Radiation Therapy, NOS', 'Pharmaceutical Therapy, NOS']\n",
    "df_filtered = df[df['treatment_type'].isin(values_to_keep)]\n",
    "df_filtered = pd.DataFrame(df_filtered.copy())\n",
    "\n",
    "print(df_filtered['treatment_type'].value_counts())\n",
    "df_filtered.info()"
   ]
  },
  {
   "cell_type": "code",
   "execution_count": 53,
   "metadata": {},
   "outputs": [
    {
     "name": "stdout",
     "output_type": "stream",
     "text": [
      "        3     5     6    7    9\n",
      "0  2364.0  11.0  12.0  0.0  1.0\n",
      "1  3155.0  10.0  12.0  0.0  1.0\n",
      "2  1404.0  10.0  12.0  0.0  1.0\n",
      "3  1562.0  10.0  12.0  0.0  1.0\n",
      "4  2493.0  10.0  12.0  0.0  1.0\n",
      "8\n",
      "0.0    9027\n",
      "1.0    5300\n",
      "Name: count, dtype: int64\n",
      "(10028, 5) (2149, 5) (2150, 5)\n",
      "Validation performance: \n",
      "               precision    recall  f1-score   support\n",
      "\n",
      "         0.0       0.98      0.98      0.98      1357\n",
      "         1.0       0.97      0.96      0.97       792\n",
      "\n",
      "    accuracy                           0.97      2149\n",
      "   macro avg       0.97      0.97      0.97      2149\n",
      "weighted avg       0.97      0.97      0.97      2149\n",
      "\n",
      "Test performance: \n",
      "               precision    recall  f1-score   support\n",
      "\n",
      "         0.0       0.97      0.99      0.98      1355\n",
      "         1.0       0.99      0.95      0.97       795\n",
      "\n",
      "    accuracy                           0.98      2150\n",
      "   macro avg       0.98      0.97      0.98      2150\n",
      "weighted avg       0.98      0.98      0.98      2150\n",
      "\n"
     ]
    }
   ],
   "source": [
    "from sklearn.model_selection import train_test_split\n",
    "from sklearn.preprocessing import OrdinalEncoder\n",
    "\n",
    "# Encoding\n",
    "df_encoded = pd.DataFrame(OrdinalEncoder().fit_transform(df_filtered))\n",
    "\n",
    "# Split the DataFrame back into features and target\n",
    "# 8 = 'vital_status'\n",
    "# 9 = 'treatment_type'\n",
    "X = df_encoded.drop(columns=[0, 1, 2, 4, 8])\n",
    "print(X.head())\n",
    "y = df_encoded[8]\n",
    "print(y.value_counts())\n",
    "\n",
    "# Train-test split\n",
    "X_train, X_temp, y_train, y_temp = train_test_split(X, y, test_size=0.3, random_state=42)\n",
    "X_val, X_test, y_val, y_test = train_test_split(X_temp, y_temp, test_size=0.5, random_state=42)\n",
    "\n",
    "print(X_train.shape, X_val.shape, X_test.shape)\n",
    "\n",
    "# # Convert X splits into lists\n",
    "X_train = X_train.values.tolist()  # Features for training set as a list of lists\n",
    "X_val = X_val.values.tolist()      # Features for validation set as a list of lists\n",
    "X_test = X_test.values.tolist()    # Features for test set as a list of lists\n",
    "y_train = y_train.values.tolist()  # Features for training set as a list of lists\n",
    "y_val = y_val.values.tolist()      # Features for validation set as a list of lists\n",
    "y_test = y_test.values.tolist()    # Features for test set as a list of lists\n",
    "\n",
    "# classifier = DecisionTree()\n",
    "classifier = DecisionTree()\n",
    "classifier.fit(X_train, y_train)\n",
    "\n",
    "train_y_hat = classifier.predict(X_train)\n",
    "validation_y_hat = classifier.predict(X_val)\n",
    "test_y_hat = classifier.predict(X_test)\n",
    "\n",
    "# Generate classification report\n",
    "val_report = classification_report(y_val, validation_y_hat)\n",
    "print(\"Validation performance: \\n\", val_report)\n",
    "\n",
    "test_report = classification_report(y_test, test_y_hat)\n",
    "print(\"Test performance: \\n\", test_report)\n"
   ]
  },
  {
   "cell_type": "code",
   "execution_count": 51,
   "metadata": {},
   "outputs": [
    {
     "data": {
      "text/plain": [
       "<sklearn.metrics._plot.confusion_matrix.ConfusionMatrixDisplay at 0x125a28e20>"
      ]
     },
     "execution_count": 51,
     "metadata": {},
     "output_type": "execute_result"
    },
    {
     "data": {
      "image/png": "[encoded data removed]",
      "text/plain": [
       "<Figure size 640x480 with 2 Axes>"
      ]
     },
     "metadata": {},
     "output_type": "display_data"
    }
   ],
   "source": [
    "# Generate and display confusion matrix\n",
    "cm = confusion_matrix(y_test, test_y_hat)\n",
    "disp = ConfusionMatrixDisplay(confusion_matrix=cm, display_labels=[0, 1])\n",
    "disp.plot()"
   ]
  },
  {
   "cell_type": "code",
   "execution_count": 45,
   "metadata": {},
   "outputs": [
    {
     "name": "stdout",
     "output_type": "stream",
     "text": [
      "binary_treatment_type\n",
      "1    7180\n",
      "0    7147\n",
      "Name: count, dtype: int64\n",
      "<class 'pandas.core.frame.DataFrame'>\n",
      "Index: 14327 entries, 4 to 14551\n",
      "Data columns (total 8 columns):\n",
      " #   Column                       Non-Null Count  Dtype \n",
      "---  ------                       --------------  ----- \n",
      " 0   race                         14327 non-null  object\n",
      " 1   sex                          14327 non-null  object\n",
      " 2   age_at_diagnosis             14327 non-null  int64 \n",
      " 3   morphology                   14327 non-null  object\n",
      " 4   primary_diagnosis            14327 non-null  object\n",
      " 5   primary_diagnosis_condition  14327 non-null  object\n",
      " 6   primary_diagnosis_site       14327 non-null  object\n",
      " 7   vital_status                 14327 non-null  object\n",
      "dtypes: int64(1), object(7)\n",
      "memory usage: 1007.4+ KB\n",
      "None\n",
      "Labels: [0, 1]\n",
      "Training set size: 10028\n",
      "Validation set size: 2149\n",
      "Test set size: 2150\n",
      "\n",
      "Classification Report (Train):\n",
      "Accuracy: 0.65\n",
      "Precision: 0.65\n",
      "Recall: 0.65\n",
      "\n",
      "Classification Report (Validation):\n",
      "Accuracy: 0.15\n",
      "Precision: 0.18\n",
      "Recall: 0.19\n",
      "\n",
      "Classification Report (Test):\n",
      "Accuracy: 0.15\n",
      "Precision: 0.17\n",
      "Recall: 0.18\n",
      "              precision    recall  f1-score   support\n",
      "\n",
      "           0       0.13      0.12      0.13      1070\n",
      "           1       0.18      0.19      0.18      1079\n",
      "\n",
      "    accuracy                           0.15      2149\n",
      "   macro avg       0.15      0.15      0.15      2149\n",
      "weighted avg       0.15      0.15      0.15      2149\n",
      "\n"
     ]
    }
   ],
   "source": [
    "# Define a function to map values\n",
    "def map_values(value):\n",
    "    if value == 'Radiation Therapy, NOS':\n",
    "        return 1\n",
    "    elif value == 'Pharmaceutical Therapy, NOS':\n",
    "        return 0\n",
    "    else:\n",
    "        return -1\n",
    "\n",
    "# Apply the function to the column\n",
    "df_filtered['binary_treatment_type'] = df_filtered['treatment_type'].apply(map_values)\n",
    "print(df_filtered['binary_treatment_type'].value_counts())\n",
    "\n",
    "# Specify the column name for the labels\n",
    "label_column = 'binary_treatment_type'\n",
    "\n",
    "# Split the DataFrame into features (X) and labels (y)\n",
    "X = df_filtered.drop(columns=['subject_id', 'treatment_type', 'binary_treatment_type'])  # All columns except the label column\n",
    "y = list(df_filtered[label_column]) # Only the label column\n",
    "print(X.info())\n",
    "unique_values = list(set(y))\n",
    "print(\"Labels:\", unique_values)\n",
    "\n",
    "# Split data into train (70%) and temporary test (30%) sets\n",
    "X_train, X_temp, y_train, y_temp = train_test_split(X, y, test_size=0.3, random_state=42)\n",
    "\n",
    "# Split the temporary set into validation (50% of temporary) and test (50% of temporary)\n",
    "# Equivalent to 15% test and %15 validation from the original split\n",
    "X_val, X_test, y_val, y_test = train_test_split(X_temp, y_temp, test_size=0.5, random_state=42)\n",
    "\n",
    "# Check the sizes of the splits\n",
    "print(f\"Training set size: {X_train.shape[0]}\")\n",
    "print(f\"Validation set size: {X_val.shape[0]}\")\n",
    "print(f\"Test set size: {X_test.shape[0]}\")\n",
    "\n",
    "# # Convert X splits into lists\n",
    "X_train = X_train.values.tolist()  # Features for training set as a list of lists\n",
    "X_val = X_val.values.tolist()      # Features for validation set as a list of lists\n",
    "X_test = X_test.values.tolist()    # Features for test set as a list of lists\n",
    "\n",
    "# classifier = DecisionTree()\n",
    "classifier = DecisionTree()\n",
    "classifier.fit(X_train, y_train)\n",
    "\n",
    "train_y_hat = classifier.predict(X_train)\n",
    "validation_y_hat = classifier.predict(X_val)\n",
    "test_y_hat = classifier.predict(X_test)\n",
    "\n",
    "# Function to calculate performance metrics\n",
    "def calculate_performance(validation_y, validation_y_hat):\n",
    "    # Ensure inputs are lists\n",
    "    validation_y = list(validation_y)\n",
    "    validation_y_hat = list(validation_y_hat)\n",
    "    \n",
    "    # Initialize counters\n",
    "    true_positive = 0\n",
    "    false_positive = 0\n",
    "    false_negative = 0\n",
    "    true_negative = 0\n",
    "\n",
    "    # Count TP, FP, TN, FN including -1 cases (for multiclass classification)\n",
    "    for actual, predicted in zip(validation_y, validation_y_hat):\n",
    "        if actual == 1 and predicted == 1:\n",
    "            true_positive += 1\n",
    "        elif actual == 0 and predicted == 1:\n",
    "            false_positive += 1\n",
    "        elif actual == 1 and predicted == 0:\n",
    "            false_negative += 1\n",
    "        elif actual == 0 and predicted == 0:\n",
    "            true_negative += 1\n",
    "        elif actual == -1:\n",
    "            if predicted == -1:\n",
    "                true_negative += 1\n",
    "            else:\n",
    "                false_positive += 1\n",
    "        elif predicted == -1:\n",
    "            false_negative += 1\n",
    "\n",
    "    # Calculate metrics\n",
    "    accuracy = (true_positive + true_negative) / len(validation_y)\n",
    "    precision = true_positive / (true_positive + false_positive) if (true_positive + false_positive) > 0 else 0\n",
    "    recall = true_positive / (true_positive + false_negative) if (true_positive + false_negative) > 0 else 0\n",
    "\n",
    "    # Print metrics\n",
    "    print(f\"Accuracy: {accuracy:.2f}\")\n",
    "    print(f\"Precision: {precision:.2f}\")\n",
    "    print(f\"Recall: {recall:.2f}\")\n",
    "\n",
    "print(\"\\nClassification Report (Train):\")\n",
    "calculate_performance(y_train, train_y_hat)\n",
    "\n",
    "print(\"\\nClassification Report (Validation):\")\n",
    "calculate_performance(y_val, validation_y_hat)\n",
    "\n",
    "print(\"\\nClassification Report (Test):\")\n",
    "calculate_performance(y_test, test_y_hat)\n",
    "\n",
    "# Generate classification report\n",
    "report = classification_report(y_val, validation_y_hat)\n",
    "print(report)\n"
   ]
  },
  {
   "cell_type": "code",
   "execution_count": 46,
   "metadata": {},
   "outputs": [
    {
     "data": {
      "text/plain": [
       "<sklearn.metrics._plot.confusion_matrix.ConfusionMatrixDisplay at 0x127904210>"
      ]
     },
     "execution_count": 46,
     "metadata": {},
     "output_type": "execute_result"
    },
    {
     "data": {
      "image/png": "[encoded data removed]",
      "text/plain": [
       "<Figure size 640x480 with 2 Axes>"
      ]
     },
     "metadata": {},
     "output_type": "display_data"
    }
   ],
   "source": [
    "# Generate and display confusion matrix\n",
    "cm = confusion_matrix(y_val, validation_y_hat)\n",
    "disp = ConfusionMatrixDisplay(confusion_matrix=cm, display_labels=[0, 1])\n",
    "disp.plot()"
   ]
  },
  {
   "cell_type": "code",
   "execution_count": 47,
   "metadata": {},
   "outputs": [
    {
     "data": {
      "text/plain": [
       "<sklearn.metrics._plot.confusion_matrix.ConfusionMatrixDisplay at 0x126b166d0>"
      ]
     },
     "execution_count": 47,
     "metadata": {},
     "output_type": "execute_result"
    },
    {
     "data": {
      "image/png": "[encoded data removed]",
      "text/plain": [
       "<Figure size 640x480 with 2 Axes>"
      ]
     },
     "metadata": {},
     "output_type": "display_data"
    }
   ],
   "source": [
    "# Generate and display confusion matrix\n",
    "cm = confusion_matrix(y_test, test_y_hat)\n",
    "disp = ConfusionMatrixDisplay(confusion_matrix=cm, display_labels=[0, 1])\n",
    "disp.plot()"
   ]
  },
  {
   "cell_type": "code",
   "execution_count": null,
   "metadata": {},
   "outputs": [],
   "source": []
  }
 ],
 "metadata": {
  "kernelspec": {
   "display_name": "env",
   "language": "python",
   "name": "python3"
  },
  "language_info": {
   "codemirror_mode": {
    "name": "ipython",
    "version": 3
   },
   "file_extension": ".py",
   "mimetype": "text/x-python",
   "name": "python",
   "nbconvert_exporter": "python",
   "pygments_lexer": "ipython3",
   "version": "3.13.0"
  }
 },
 "nbformat": 4,
 "nbformat_minor": 2
}
